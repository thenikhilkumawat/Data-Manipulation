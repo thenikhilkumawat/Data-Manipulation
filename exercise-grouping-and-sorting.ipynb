{
 "cells": [
  {
   "cell_type": "markdown",
   "id": "3f829f3e",
   "metadata": {
    "papermill": {
     "duration": 0.00617,
     "end_time": "2023-06-29T13:42:33.748421",
     "exception": false,
     "start_time": "2023-06-29T13:42:33.742251",
     "status": "completed"
    },
    "tags": []
   },
   "source": [
    "**This notebook is an exercise in the [Pandas](https://www.kaggle.com/learn/pandas) course.  You can reference the tutorial at [this link](https://www.kaggle.com/residentmario/grouping-and-sorting).**\n",
    "\n",
    "---\n"
   ]
  },
  {
   "cell_type": "markdown",
   "id": "5ac04a15",
   "metadata": {
    "papermill": {
     "duration": 0.005864,
     "end_time": "2023-06-29T13:42:33.760299",
     "exception": false,
     "start_time": "2023-06-29T13:42:33.754435",
     "status": "completed"
    },
    "tags": []
   },
   "source": [
    "# Introduction\n",
    "\n",
    "In these exercises we'll apply groupwise analysis to our dataset.\n",
    "\n",
    "Run the code cell below to load the data before running the exercises."
   ]
  },
  {
   "cell_type": "code",
   "execution_count": 1,
   "id": "60914b1e",
   "metadata": {
    "execution": {
     "iopub.execute_input": "2023-06-29T13:42:33.774858Z",
     "iopub.status.busy": "2023-06-29T13:42:33.774186Z",
     "iopub.status.idle": "2023-06-29T13:42:37.342642Z",
     "shell.execute_reply": "2023-06-29T13:42:37.341374Z"
    },
    "papermill": {
     "duration": 3.579133,
     "end_time": "2023-06-29T13:42:37.345272",
     "exception": false,
     "start_time": "2023-06-29T13:42:33.766139",
     "status": "completed"
    },
    "tags": []
   },
   "outputs": [
    {
     "name": "stdout",
     "output_type": "stream",
     "text": [
      "Setup complete.\n"
     ]
    }
   ],
   "source": [
    "import pandas as pd\n",
    "\n",
    "reviews = pd.read_csv(\"../input/wine-reviews/winemag-data-130k-v2.csv\", index_col=0)\n",
    "#pd.set_option(\"display.max_rows\", 5)\n",
    "\n",
    "from learntools.core import binder; binder.bind(globals())\n",
    "from learntools.pandas.grouping_and_sorting import *\n",
    "print(\"Setup complete.\")"
   ]
  },
  {
   "cell_type": "markdown",
   "id": "95c7ae30",
   "metadata": {
    "papermill": {
     "duration": 0.00545,
     "end_time": "2023-06-29T13:42:37.356811",
     "exception": false,
     "start_time": "2023-06-29T13:42:37.351361",
     "status": "completed"
    },
    "tags": []
   },
   "source": [
    "# Exercises"
   ]
  },
  {
   "cell_type": "markdown",
   "id": "bfaace02",
   "metadata": {
    "papermill": {
     "duration": 0.007254,
     "end_time": "2023-06-29T13:42:37.369857",
     "exception": false,
     "start_time": "2023-06-29T13:42:37.362603",
     "status": "completed"
    },
    "tags": []
   },
   "source": [
    "## 1.\n",
    "Who are the most common wine reviewers in the dataset? Create a `Series` whose index is the `taster_twitter_handle` category from the dataset, and whose values count how many reviews each person wrote."
   ]
  },
  {
   "cell_type": "code",
   "execution_count": 2,
   "id": "0328fb80",
   "metadata": {
    "execution": {
     "iopub.execute_input": "2023-06-29T13:42:37.383782Z",
     "iopub.status.busy": "2023-06-29T13:42:37.382590Z",
     "iopub.status.idle": "2023-06-29T13:42:37.409785Z",
     "shell.execute_reply": "2023-06-29T13:42:37.408335Z"
    },
    "papermill": {
     "duration": 0.036881,
     "end_time": "2023-06-29T13:42:37.412403",
     "exception": false,
     "start_time": "2023-06-29T13:42:37.375522",
     "status": "completed"
    },
    "tags": []
   },
   "outputs": [
    {
     "data": {
      "application/javascript": [
       "parent.postMessage({\"jupyterEvent\": \"custom.exercise_interaction\", \"data\": {\"outcomeType\": 1, \"valueTowardsCompletion\": 0.16666666666666666, \"interactionType\": 1, \"questionType\": 1, \"questionId\": \"1_ReviewsWritten\", \"learnToolsVersion\": \"0.3.4\", \"failureMessage\": \"\", \"exceptionClass\": \"\", \"trace\": \"\"}}, \"*\")"
      ],
      "text/plain": [
       "<IPython.core.display.Javascript object>"
      ]
     },
     "metadata": {},
     "output_type": "display_data"
    },
    {
     "data": {
      "text/markdown": [
       "<span style=\"color:#33cc33\">Correct:</span> \n",
       "\n",
       "\n",
       "```python\n",
       "reviews_written = reviews.groupby('taster_twitter_handle').size()\n",
       "```\n",
       "or\n",
       "```python\n",
       "reviews_written = reviews.groupby('taster_twitter_handle').taster_twitter_handle.count()\n",
       "```\n"
      ],
      "text/plain": [
       "Correct: \n",
       "\n",
       "\n",
       "```python\n",
       "reviews_written = reviews.groupby('taster_twitter_handle').size()\n",
       "```\n",
       "or\n",
       "```python\n",
       "reviews_written = reviews.groupby('taster_twitter_handle').taster_twitter_handle.count()\n",
       "```"
      ]
     },
     "metadata": {},
     "output_type": "display_data"
    }
   ],
   "source": [
    "# Your code here\n",
    "reviews_written = reviews.groupby('taster_twitter_handle').size()\n",
    "\n",
    "# Check your answer\n",
    "q1.check()"
   ]
  },
  {
   "cell_type": "code",
   "execution_count": 3,
   "id": "fdedf45a",
   "metadata": {
    "execution": {
     "iopub.execute_input": "2023-06-29T13:42:37.428060Z",
     "iopub.status.busy": "2023-06-29T13:42:37.427643Z",
     "iopub.status.idle": "2023-06-29T13:42:37.432463Z",
     "shell.execute_reply": "2023-06-29T13:42:37.431195Z"
    },
    "papermill": {
     "duration": 0.015571,
     "end_time": "2023-06-29T13:42:37.434758",
     "exception": false,
     "start_time": "2023-06-29T13:42:37.419187",
     "status": "completed"
    },
    "tags": []
   },
   "outputs": [],
   "source": [
    "#q1.hint()\n",
    "#q1.solution()"
   ]
  },
  {
   "cell_type": "markdown",
   "id": "5bed8291",
   "metadata": {
    "papermill": {
     "duration": 0.005774,
     "end_time": "2023-06-29T13:42:37.447005",
     "exception": false,
     "start_time": "2023-06-29T13:42:37.441231",
     "status": "completed"
    },
    "tags": []
   },
   "source": [
    "## 2.\n",
    "What is the best wine I can buy for a given amount of money? Create a `Series` whose index is wine prices and whose values is the maximum number of points a wine costing that much was given in a review. Sort the values by price, ascending (so that `4.0` dollars is at the top and `3300.0` dollars is at the bottom)."
   ]
  },
  {
   "cell_type": "code",
   "execution_count": 4,
   "id": "6051abe2",
   "metadata": {
    "execution": {
     "iopub.execute_input": "2023-06-29T13:42:37.461721Z",
     "iopub.status.busy": "2023-06-29T13:42:37.461272Z",
     "iopub.status.idle": "2023-06-29T13:42:37.477544Z",
     "shell.execute_reply": "2023-06-29T13:42:37.476375Z"
    },
    "papermill": {
     "duration": 0.026642,
     "end_time": "2023-06-29T13:42:37.480148",
     "exception": false,
     "start_time": "2023-06-29T13:42:37.453506",
     "status": "completed"
    },
    "tags": []
   },
   "outputs": [
    {
     "data": {
      "application/javascript": [
       "parent.postMessage({\"jupyterEvent\": \"custom.exercise_interaction\", \"data\": {\"outcomeType\": 1, \"valueTowardsCompletion\": 0.16666666666666666, \"interactionType\": 1, \"questionType\": 1, \"questionId\": \"2_BestRatingPerPrice\", \"learnToolsVersion\": \"0.3.4\", \"failureMessage\": \"\", \"exceptionClass\": \"\", \"trace\": \"\"}}, \"*\")"
      ],
      "text/plain": [
       "<IPython.core.display.Javascript object>"
      ]
     },
     "metadata": {},
     "output_type": "display_data"
    },
    {
     "data": {
      "text/markdown": [
       "<span style=\"color:#33cc33\">Correct</span>"
      ],
      "text/plain": [
       "Correct"
      ]
     },
     "metadata": {},
     "output_type": "display_data"
    }
   ],
   "source": [
    "best_rating_per_price = reviews.groupby('price')['points'].max().sort_index()\n",
    "\n",
    "# Check your answer\n",
    "q2.check()"
   ]
  },
  {
   "cell_type": "code",
   "execution_count": 5,
   "id": "91367760",
   "metadata": {
    "execution": {
     "iopub.execute_input": "2023-06-29T13:42:37.496230Z",
     "iopub.status.busy": "2023-06-29T13:42:37.495275Z",
     "iopub.status.idle": "2023-06-29T13:42:37.499841Z",
     "shell.execute_reply": "2023-06-29T13:42:37.498727Z"
    },
    "papermill": {
     "duration": 0.015403,
     "end_time": "2023-06-29T13:42:37.502220",
     "exception": false,
     "start_time": "2023-06-29T13:42:37.486817",
     "status": "completed"
    },
    "tags": []
   },
   "outputs": [],
   "source": [
    "#q2.hint()\n",
    "#q2.solution()"
   ]
  },
  {
   "cell_type": "markdown",
   "id": "9e48755a",
   "metadata": {
    "papermill": {
     "duration": 0.006207,
     "end_time": "2023-06-29T13:42:37.515279",
     "exception": false,
     "start_time": "2023-06-29T13:42:37.509072",
     "status": "completed"
    },
    "tags": []
   },
   "source": [
    "## 3.\n",
    "What are the minimum and maximum prices for each `variety` of wine? Create a `DataFrame` whose index is the `variety` category from the dataset and whose values are the `min` and `max` values thereof."
   ]
  },
  {
   "cell_type": "code",
   "execution_count": 6,
   "id": "2f6d1b55",
   "metadata": {
    "execution": {
     "iopub.execute_input": "2023-06-29T13:42:37.530591Z",
     "iopub.status.busy": "2023-06-29T13:42:37.529783Z",
     "iopub.status.idle": "2023-06-29T13:42:37.557871Z",
     "shell.execute_reply": "2023-06-29T13:42:37.556687Z"
    },
    "papermill": {
     "duration": 0.038675,
     "end_time": "2023-06-29T13:42:37.560543",
     "exception": false,
     "start_time": "2023-06-29T13:42:37.521868",
     "status": "completed"
    },
    "tags": []
   },
   "outputs": [
    {
     "data": {
      "application/javascript": [
       "parent.postMessage({\"jupyterEvent\": \"custom.exercise_interaction\", \"data\": {\"outcomeType\": 1, \"valueTowardsCompletion\": 0.16666666666666666, \"interactionType\": 1, \"questionType\": 1, \"questionId\": \"3_PriceExtremes\", \"learnToolsVersion\": \"0.3.4\", \"failureMessage\": \"\", \"exceptionClass\": \"\", \"trace\": \"\"}}, \"*\")"
      ],
      "text/plain": [
       "<IPython.core.display.Javascript object>"
      ]
     },
     "metadata": {},
     "output_type": "display_data"
    },
    {
     "data": {
      "text/markdown": [
       "<span style=\"color:#33cc33\">Correct</span>"
      ],
      "text/plain": [
       "Correct"
      ]
     },
     "metadata": {},
     "output_type": "display_data"
    }
   ],
   "source": [
    "price_extremes = reviews.groupby('variety').price.agg([min, max])\n",
    "\n",
    "# Check your answer\n",
    "q3.check()"
   ]
  },
  {
   "cell_type": "code",
   "execution_count": 7,
   "id": "16be2d81",
   "metadata": {
    "execution": {
     "iopub.execute_input": "2023-06-29T13:42:37.577757Z",
     "iopub.status.busy": "2023-06-29T13:42:37.576915Z",
     "iopub.status.idle": "2023-06-29T13:42:37.581550Z",
     "shell.execute_reply": "2023-06-29T13:42:37.580714Z"
    },
    "papermill": {
     "duration": 0.015843,
     "end_time": "2023-06-29T13:42:37.583881",
     "exception": false,
     "start_time": "2023-06-29T13:42:37.568038",
     "status": "completed"
    },
    "tags": []
   },
   "outputs": [],
   "source": [
    "#q3.hint()\n",
    "#q3.solution()"
   ]
  },
  {
   "cell_type": "markdown",
   "id": "337e7979",
   "metadata": {
    "papermill": {
     "duration": 0.006134,
     "end_time": "2023-06-29T13:42:37.597375",
     "exception": false,
     "start_time": "2023-06-29T13:42:37.591241",
     "status": "completed"
    },
    "tags": []
   },
   "source": [
    "## 4.\n",
    "What are the most expensive wine varieties? Create a variable `sorted_varieties` containing a copy of the dataframe from the previous question where varieties are sorted in descending order based on minimum price, then on maximum price (to break ties)."
   ]
  },
  {
   "cell_type": "code",
   "execution_count": 8,
   "id": "ce496ea4",
   "metadata": {
    "execution": {
     "iopub.execute_input": "2023-06-29T13:42:37.613065Z",
     "iopub.status.busy": "2023-06-29T13:42:37.612225Z",
     "iopub.status.idle": "2023-06-29T13:42:37.627942Z",
     "shell.execute_reply": "2023-06-29T13:42:37.626805Z"
    },
    "papermill": {
     "duration": 0.026466,
     "end_time": "2023-06-29T13:42:37.630275",
     "exception": false,
     "start_time": "2023-06-29T13:42:37.603809",
     "status": "completed"
    },
    "tags": []
   },
   "outputs": [
    {
     "data": {
      "application/javascript": [
       "parent.postMessage({\"jupyterEvent\": \"custom.exercise_interaction\", \"data\": {\"outcomeType\": 1, \"valueTowardsCompletion\": 0.16666666666666666, \"interactionType\": 1, \"questionType\": 1, \"questionId\": \"4_SortedVarieties\", \"learnToolsVersion\": \"0.3.4\", \"failureMessage\": \"\", \"exceptionClass\": \"\", \"trace\": \"\"}}, \"*\")"
      ],
      "text/plain": [
       "<IPython.core.display.Javascript object>"
      ]
     },
     "metadata": {},
     "output_type": "display_data"
    },
    {
     "data": {
      "text/markdown": [
       "<span style=\"color:#33cc33\">Correct</span>"
      ],
      "text/plain": [
       "Correct"
      ]
     },
     "metadata": {},
     "output_type": "display_data"
    }
   ],
   "source": [
    "sorted_varieties = price_extremes.sort_values(by=['min', 'max'], ascending=False)\n",
    "\n",
    "# Check your answer\n",
    "q4.check()"
   ]
  },
  {
   "cell_type": "code",
   "execution_count": 9,
   "id": "aa521d82",
   "metadata": {
    "execution": {
     "iopub.execute_input": "2023-06-29T13:42:37.646646Z",
     "iopub.status.busy": "2023-06-29T13:42:37.645569Z",
     "iopub.status.idle": "2023-06-29T13:42:37.650705Z",
     "shell.execute_reply": "2023-06-29T13:42:37.649816Z"
    },
    "papermill": {
     "duration": 0.015766,
     "end_time": "2023-06-29T13:42:37.652923",
     "exception": false,
     "start_time": "2023-06-29T13:42:37.637157",
     "status": "completed"
    },
    "tags": []
   },
   "outputs": [],
   "source": [
    "#q4.hint()\n",
    "#q4.solution()"
   ]
  },
  {
   "cell_type": "markdown",
   "id": "5ad13b12",
   "metadata": {
    "papermill": {
     "duration": 0.007101,
     "end_time": "2023-06-29T13:42:37.666801",
     "exception": false,
     "start_time": "2023-06-29T13:42:37.659700",
     "status": "completed"
    },
    "tags": []
   },
   "source": [
    "## 5.\n",
    "Create a `Series` whose index is reviewers and whose values is the average review score given out by that reviewer. Hint: you will need the `taster_name` and `points` columns."
   ]
  },
  {
   "cell_type": "code",
   "execution_count": 10,
   "id": "34f816eb",
   "metadata": {
    "execution": {
     "iopub.execute_input": "2023-06-29T13:42:37.684030Z",
     "iopub.status.busy": "2023-06-29T13:42:37.683211Z",
     "iopub.status.idle": "2023-06-29T13:42:37.706237Z",
     "shell.execute_reply": "2023-06-29T13:42:37.705113Z"
    },
    "papermill": {
     "duration": 0.035072,
     "end_time": "2023-06-29T13:42:37.709045",
     "exception": false,
     "start_time": "2023-06-29T13:42:37.673973",
     "status": "completed"
    },
    "tags": []
   },
   "outputs": [
    {
     "data": {
      "application/javascript": [
       "parent.postMessage({\"jupyterEvent\": \"custom.exercise_interaction\", \"data\": {\"outcomeType\": 1, \"valueTowardsCompletion\": 0.16666666666666666, \"interactionType\": 1, \"questionType\": 1, \"questionId\": \"5_ReviewerMeanRatings\", \"learnToolsVersion\": \"0.3.4\", \"failureMessage\": \"\", \"exceptionClass\": \"\", \"trace\": \"\"}}, \"*\")"
      ],
      "text/plain": [
       "<IPython.core.display.Javascript object>"
      ]
     },
     "metadata": {},
     "output_type": "display_data"
    },
    {
     "data": {
      "text/markdown": [
       "<span style=\"color:#33cc33\">Correct</span>"
      ],
      "text/plain": [
       "Correct"
      ]
     },
     "metadata": {},
     "output_type": "display_data"
    }
   ],
   "source": [
    "reviewer_mean_ratings = reviews.groupby('taster_name').points.mean()\n",
    "\n",
    "# Check your answer\n",
    "q5.check()"
   ]
  },
  {
   "cell_type": "code",
   "execution_count": 11,
   "id": "e4a16f64",
   "metadata": {
    "execution": {
     "iopub.execute_input": "2023-06-29T13:42:37.726835Z",
     "iopub.status.busy": "2023-06-29T13:42:37.726030Z",
     "iopub.status.idle": "2023-06-29T13:42:37.731214Z",
     "shell.execute_reply": "2023-06-29T13:42:37.729820Z"
    },
    "papermill": {
     "duration": 0.017898,
     "end_time": "2023-06-29T13:42:37.734043",
     "exception": false,
     "start_time": "2023-06-29T13:42:37.716145",
     "status": "completed"
    },
    "tags": []
   },
   "outputs": [],
   "source": [
    "#q5.hint()\n",
    "#q5.solution()"
   ]
  },
  {
   "cell_type": "markdown",
   "id": "d2fbbbc0",
   "metadata": {
    "papermill": {
     "duration": 0.008229,
     "end_time": "2023-06-29T13:42:37.750435",
     "exception": false,
     "start_time": "2023-06-29T13:42:37.742206",
     "status": "completed"
    },
    "tags": []
   },
   "source": [
    "Are there significant differences in the average scores assigned by the various reviewers? Run the cell below to use the `describe()` method to see a summary of the range of values."
   ]
  },
  {
   "cell_type": "code",
   "execution_count": 12,
   "id": "2d06236c",
   "metadata": {
    "execution": {
     "iopub.execute_input": "2023-06-29T13:42:37.767596Z",
     "iopub.status.busy": "2023-06-29T13:42:37.767121Z",
     "iopub.status.idle": "2023-06-29T13:42:37.784832Z",
     "shell.execute_reply": "2023-06-29T13:42:37.783493Z"
    },
    "papermill": {
     "duration": 0.029423,
     "end_time": "2023-06-29T13:42:37.787209",
     "exception": false,
     "start_time": "2023-06-29T13:42:37.757786",
     "status": "completed"
    },
    "tags": []
   },
   "outputs": [
    {
     "data": {
      "text/plain": [
       "count    19.000000\n",
       "mean     88.233026\n",
       "std       1.243610\n",
       "min      85.855422\n",
       "25%      87.323501\n",
       "50%      88.536235\n",
       "75%      88.975256\n",
       "max      90.562551\n",
       "Name: points, dtype: float64"
      ]
     },
     "execution_count": 12,
     "metadata": {},
     "output_type": "execute_result"
    }
   ],
   "source": [
    "reviewer_mean_ratings.describe()"
   ]
  },
  {
   "cell_type": "markdown",
   "id": "c4e35173",
   "metadata": {
    "papermill": {
     "duration": 0.006723,
     "end_time": "2023-06-29T13:42:37.801364",
     "exception": false,
     "start_time": "2023-06-29T13:42:37.794641",
     "status": "completed"
    },
    "tags": []
   },
   "source": [
    "## 6.\n",
    "What combination of countries and varieties are most common? Create a `Series` whose index is a `MultiIndex`of `{country, variety}` pairs. For example, a pinot noir produced in the US should map to `{\"US\", \"Pinot Noir\"}`. Sort the values in the `Series` in descending order based on wine count."
   ]
  },
  {
   "cell_type": "code",
   "execution_count": 13,
   "id": "33808210",
   "metadata": {
    "execution": {
     "iopub.execute_input": "2023-06-29T13:42:37.817704Z",
     "iopub.status.busy": "2023-06-29T13:42:37.817203Z",
     "iopub.status.idle": "2023-06-29T13:42:37.856755Z",
     "shell.execute_reply": "2023-06-29T13:42:37.855525Z"
    },
    "papermill": {
     "duration": 0.050921,
     "end_time": "2023-06-29T13:42:37.859311",
     "exception": false,
     "start_time": "2023-06-29T13:42:37.808390",
     "status": "completed"
    },
    "tags": []
   },
   "outputs": [
    {
     "data": {
      "application/javascript": [
       "parent.postMessage({\"jupyterEvent\": \"custom.exercise_interaction\", \"data\": {\"outcomeType\": 1, \"valueTowardsCompletion\": 0.16666666666666666, \"interactionType\": 1, \"questionType\": 1, \"questionId\": \"6_GroupbyCountryVariety\", \"learnToolsVersion\": \"0.3.4\", \"failureMessage\": \"\", \"exceptionClass\": \"\", \"trace\": \"\"}}, \"*\")"
      ],
      "text/plain": [
       "<IPython.core.display.Javascript object>"
      ]
     },
     "metadata": {},
     "output_type": "display_data"
    },
    {
     "data": {
      "text/markdown": [
       "<span style=\"color:#33cc33\">Correct</span>"
      ],
      "text/plain": [
       "Correct"
      ]
     },
     "metadata": {},
     "output_type": "display_data"
    }
   ],
   "source": [
    "country_variety_counts = reviews.groupby(['country', 'variety']).size().sort_values(ascending=False)\n",
    "\n",
    "# Check your answer\n",
    "q6.check()"
   ]
  },
  {
   "cell_type": "code",
   "execution_count": 14,
   "id": "506fb13a",
   "metadata": {
    "execution": {
     "iopub.execute_input": "2023-06-29T13:42:37.877724Z",
     "iopub.status.busy": "2023-06-29T13:42:37.876431Z",
     "iopub.status.idle": "2023-06-29T13:42:37.881389Z",
     "shell.execute_reply": "2023-06-29T13:42:37.880526Z"
    },
    "papermill": {
     "duration": 0.016771,
     "end_time": "2023-06-29T13:42:37.883597",
     "exception": false,
     "start_time": "2023-06-29T13:42:37.866826",
     "status": "completed"
    },
    "tags": []
   },
   "outputs": [],
   "source": [
    "#q6.hint()\n",
    "#q6.solution()"
   ]
  },
  {
   "cell_type": "markdown",
   "id": "93558fed",
   "metadata": {
    "papermill": {
     "duration": 0.007065,
     "end_time": "2023-06-29T13:42:37.898325",
     "exception": false,
     "start_time": "2023-06-29T13:42:37.891260",
     "status": "completed"
    },
    "tags": []
   },
   "source": [
    "# Keep going\n",
    "\n",
    "Move on to the [**data types and missing data**](https://www.kaggle.com/residentmario/data-types-and-missing-values)."
   ]
  },
  {
   "cell_type": "markdown",
   "id": "da471b30",
   "metadata": {
    "papermill": {
     "duration": 0.006978,
     "end_time": "2023-06-29T13:42:37.912806",
     "exception": false,
     "start_time": "2023-06-29T13:42:37.905828",
     "status": "completed"
    },
    "tags": []
   },
   "source": [
    "---\n",
    "\n",
    "\n",
    "\n",
    "\n",
    "*Have questions or comments? Visit the [course discussion forum](https://www.kaggle.com/learn/pandas/discussion) to chat with other learners.*"
   ]
  }
 ],
 "metadata": {
  "kernelspec": {
   "display_name": "Python 3",
   "language": "python",
   "name": "python3"
  },
  "language_info": {
   "codemirror_mode": {
    "name": "ipython",
    "version": 3
   },
   "file_extension": ".py",
   "mimetype": "text/x-python",
   "name": "python",
   "nbconvert_exporter": "python",
   "pygments_lexer": "ipython3",
   "version": "3.10.10"
  },
  "papermill": {
   "default_parameters": {},
   "duration": 18.300677,
   "end_time": "2023-06-29T13:42:39.246508",
   "environment_variables": {},
   "exception": null,
   "input_path": "__notebook__.ipynb",
   "output_path": "__notebook__.ipynb",
   "parameters": {},
   "start_time": "2023-06-29T13:42:20.945831",
   "version": "2.4.0"
  }
 },
 "nbformat": 4,
 "nbformat_minor": 5
}
