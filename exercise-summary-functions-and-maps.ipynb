{
 "cells": [
  {
   "cell_type": "markdown",
   "id": "12a93e04",
   "metadata": {
    "papermill": {
     "duration": 0.006343,
     "end_time": "2023-06-29T13:41:31.968313",
     "exception": false,
     "start_time": "2023-06-29T13:41:31.961970",
     "status": "completed"
    },
    "tags": []
   },
   "source": [
    "**This notebook is an exercise in the [Pandas](https://www.kaggle.com/learn/pandas) course.  You can reference the tutorial at [this link](https://www.kaggle.com/residentmario/summary-functions-and-maps).**\n",
    "\n",
    "---\n"
   ]
  },
  {
   "cell_type": "markdown",
   "id": "02024bd0",
   "metadata": {
    "papermill": {
     "duration": 0.005459,
     "end_time": "2023-06-29T13:41:31.979615",
     "exception": false,
     "start_time": "2023-06-29T13:41:31.974156",
     "status": "completed"
    },
    "tags": []
   },
   "source": [
    "# Introduction\n",
    "\n",
    "Now you are ready to get a deeper understanding of your data.\n",
    "\n",
    "Run the following cell to load your data and some utility functions (including code to check your answers)."
   ]
  },
  {
   "cell_type": "code",
   "execution_count": 1,
   "id": "2fd685a5",
   "metadata": {
    "execution": {
     "iopub.execute_input": "2023-06-29T13:41:31.994034Z",
     "iopub.status.busy": "2023-06-29T13:41:31.992982Z",
     "iopub.status.idle": "2023-06-29T13:41:38.712368Z",
     "shell.execute_reply": "2023-06-29T13:41:38.709722Z"
    },
    "papermill": {
     "duration": 6.729721,
     "end_time": "2023-06-29T13:41:38.715021",
     "exception": false,
     "start_time": "2023-06-29T13:41:31.985300",
     "status": "completed"
    },
    "tags": []
   },
   "outputs": [
    {
     "name": "stdout",
     "output_type": "stream",
     "text": [
      "Setup complete.\n"
     ]
    },
    {
     "data": {
      "text/html": [
       "<div>\n",
       "<style scoped>\n",
       "    .dataframe tbody tr th:only-of-type {\n",
       "        vertical-align: middle;\n",
       "    }\n",
       "\n",
       "    .dataframe tbody tr th {\n",
       "        vertical-align: top;\n",
       "    }\n",
       "\n",
       "    .dataframe thead th {\n",
       "        text-align: right;\n",
       "    }\n",
       "</style>\n",
       "<table border=\"1\" class=\"dataframe\">\n",
       "  <thead>\n",
       "    <tr style=\"text-align: right;\">\n",
       "      <th></th>\n",
       "      <th>country</th>\n",
       "      <th>description</th>\n",
       "      <th>designation</th>\n",
       "      <th>points</th>\n",
       "      <th>price</th>\n",
       "      <th>province</th>\n",
       "      <th>region_1</th>\n",
       "      <th>region_2</th>\n",
       "      <th>taster_name</th>\n",
       "      <th>taster_twitter_handle</th>\n",
       "      <th>title</th>\n",
       "      <th>variety</th>\n",
       "      <th>winery</th>\n",
       "    </tr>\n",
       "  </thead>\n",
       "  <tbody>\n",
       "    <tr>\n",
       "      <th>0</th>\n",
       "      <td>Italy</td>\n",
       "      <td>Aromas include tropical fruit, broom, brimston...</td>\n",
       "      <td>Vulkà Bianco</td>\n",
       "      <td>87</td>\n",
       "      <td>NaN</td>\n",
       "      <td>Sicily &amp; Sardinia</td>\n",
       "      <td>Etna</td>\n",
       "      <td>NaN</td>\n",
       "      <td>Kerin O’Keefe</td>\n",
       "      <td>@kerinokeefe</td>\n",
       "      <td>Nicosia 2013 Vulkà Bianco  (Etna)</td>\n",
       "      <td>White Blend</td>\n",
       "      <td>Nicosia</td>\n",
       "    </tr>\n",
       "    <tr>\n",
       "      <th>1</th>\n",
       "      <td>Portugal</td>\n",
       "      <td>This is ripe and fruity, a wine that is smooth...</td>\n",
       "      <td>Avidagos</td>\n",
       "      <td>87</td>\n",
       "      <td>15.0</td>\n",
       "      <td>Douro</td>\n",
       "      <td>NaN</td>\n",
       "      <td>NaN</td>\n",
       "      <td>Roger Voss</td>\n",
       "      <td>@vossroger</td>\n",
       "      <td>Quinta dos Avidagos 2011 Avidagos Red (Douro)</td>\n",
       "      <td>Portuguese Red</td>\n",
       "      <td>Quinta dos Avidagos</td>\n",
       "    </tr>\n",
       "    <tr>\n",
       "      <th>2</th>\n",
       "      <td>US</td>\n",
       "      <td>Tart and snappy, the flavors of lime flesh and...</td>\n",
       "      <td>NaN</td>\n",
       "      <td>87</td>\n",
       "      <td>14.0</td>\n",
       "      <td>Oregon</td>\n",
       "      <td>Willamette Valley</td>\n",
       "      <td>Willamette Valley</td>\n",
       "      <td>Paul Gregutt</td>\n",
       "      <td>@paulgwine</td>\n",
       "      <td>Rainstorm 2013 Pinot Gris (Willamette Valley)</td>\n",
       "      <td>Pinot Gris</td>\n",
       "      <td>Rainstorm</td>\n",
       "    </tr>\n",
       "    <tr>\n",
       "      <th>3</th>\n",
       "      <td>US</td>\n",
       "      <td>Pineapple rind, lemon pith and orange blossom ...</td>\n",
       "      <td>Reserve Late Harvest</td>\n",
       "      <td>87</td>\n",
       "      <td>13.0</td>\n",
       "      <td>Michigan</td>\n",
       "      <td>Lake Michigan Shore</td>\n",
       "      <td>NaN</td>\n",
       "      <td>Alexander Peartree</td>\n",
       "      <td>NaN</td>\n",
       "      <td>St. Julian 2013 Reserve Late Harvest Riesling ...</td>\n",
       "      <td>Riesling</td>\n",
       "      <td>St. Julian</td>\n",
       "    </tr>\n",
       "    <tr>\n",
       "      <th>4</th>\n",
       "      <td>US</td>\n",
       "      <td>Much like the regular bottling from 2012, this...</td>\n",
       "      <td>Vintner's Reserve Wild Child Block</td>\n",
       "      <td>87</td>\n",
       "      <td>65.0</td>\n",
       "      <td>Oregon</td>\n",
       "      <td>Willamette Valley</td>\n",
       "      <td>Willamette Valley</td>\n",
       "      <td>Paul Gregutt</td>\n",
       "      <td>@paulgwine</td>\n",
       "      <td>Sweet Cheeks 2012 Vintner's Reserve Wild Child...</td>\n",
       "      <td>Pinot Noir</td>\n",
       "      <td>Sweet Cheeks</td>\n",
       "    </tr>\n",
       "  </tbody>\n",
       "</table>\n",
       "</div>"
      ],
      "text/plain": [
       "    country                                        description  \\\n",
       "0     Italy  Aromas include tropical fruit, broom, brimston...   \n",
       "1  Portugal  This is ripe and fruity, a wine that is smooth...   \n",
       "2        US  Tart and snappy, the flavors of lime flesh and...   \n",
       "3        US  Pineapple rind, lemon pith and orange blossom ...   \n",
       "4        US  Much like the regular bottling from 2012, this...   \n",
       "\n",
       "                          designation  points  price           province  \\\n",
       "0                        Vulkà Bianco      87    NaN  Sicily & Sardinia   \n",
       "1                            Avidagos      87   15.0              Douro   \n",
       "2                                 NaN      87   14.0             Oregon   \n",
       "3                Reserve Late Harvest      87   13.0           Michigan   \n",
       "4  Vintner's Reserve Wild Child Block      87   65.0             Oregon   \n",
       "\n",
       "              region_1           region_2         taster_name  \\\n",
       "0                 Etna                NaN       Kerin O’Keefe   \n",
       "1                  NaN                NaN          Roger Voss   \n",
       "2    Willamette Valley  Willamette Valley        Paul Gregutt   \n",
       "3  Lake Michigan Shore                NaN  Alexander Peartree   \n",
       "4    Willamette Valley  Willamette Valley        Paul Gregutt   \n",
       "\n",
       "  taster_twitter_handle                                              title  \\\n",
       "0          @kerinokeefe                  Nicosia 2013 Vulkà Bianco  (Etna)   \n",
       "1            @vossroger      Quinta dos Avidagos 2011 Avidagos Red (Douro)   \n",
       "2           @paulgwine       Rainstorm 2013 Pinot Gris (Willamette Valley)   \n",
       "3                   NaN  St. Julian 2013 Reserve Late Harvest Riesling ...   \n",
       "4           @paulgwine   Sweet Cheeks 2012 Vintner's Reserve Wild Child...   \n",
       "\n",
       "          variety               winery  \n",
       "0     White Blend              Nicosia  \n",
       "1  Portuguese Red  Quinta dos Avidagos  \n",
       "2      Pinot Gris            Rainstorm  \n",
       "3        Riesling           St. Julian  \n",
       "4      Pinot Noir         Sweet Cheeks  "
      ]
     },
     "execution_count": 1,
     "metadata": {},
     "output_type": "execute_result"
    }
   ],
   "source": [
    "import pandas as pd\n",
    "pd.set_option(\"display.max_rows\", 5)\n",
    "reviews = pd.read_csv(\"../input/wine-reviews/winemag-data-130k-v2.csv\", index_col=0)\n",
    "\n",
    "from learntools.core import binder; binder.bind(globals())\n",
    "from learntools.pandas.summary_functions_and_maps import *\n",
    "print(\"Setup complete.\")\n",
    "\n",
    "reviews.head()"
   ]
  },
  {
   "cell_type": "markdown",
   "id": "c33344bf",
   "metadata": {
    "papermill": {
     "duration": 0.006972,
     "end_time": "2023-06-29T13:41:38.729323",
     "exception": false,
     "start_time": "2023-06-29T13:41:38.722351",
     "status": "completed"
    },
    "tags": []
   },
   "source": [
    "# Exercises"
   ]
  },
  {
   "cell_type": "markdown",
   "id": "9f12b75a",
   "metadata": {
    "papermill": {
     "duration": 0.005906,
     "end_time": "2023-06-29T13:41:38.743229",
     "exception": false,
     "start_time": "2023-06-29T13:41:38.737323",
     "status": "completed"
    },
    "tags": []
   },
   "source": [
    "## 1.\n",
    "\n",
    "What is the median of the `points` column in the `reviews` DataFrame?"
   ]
  },
  {
   "cell_type": "code",
   "execution_count": 2,
   "id": "06dca853",
   "metadata": {
    "execution": {
     "iopub.execute_input": "2023-06-29T13:41:38.757624Z",
     "iopub.status.busy": "2023-06-29T13:41:38.757247Z",
     "iopub.status.idle": "2023-06-29T13:41:38.769655Z",
     "shell.execute_reply": "2023-06-29T13:41:38.768620Z"
    },
    "papermill": {
     "duration": 0.022414,
     "end_time": "2023-06-29T13:41:38.771824",
     "exception": false,
     "start_time": "2023-06-29T13:41:38.749410",
     "status": "completed"
    },
    "tags": []
   },
   "outputs": [
    {
     "data": {
      "application/javascript": [
       "parent.postMessage({\"jupyterEvent\": \"custom.exercise_interaction\", \"data\": {\"outcomeType\": 1, \"valueTowardsCompletion\": 0.14285714285714285, \"interactionType\": 1, \"questionType\": 1, \"questionId\": \"1_MedianPoints\", \"learnToolsVersion\": \"0.3.4\", \"failureMessage\": \"\", \"exceptionClass\": \"\", \"trace\": \"\"}}, \"*\")"
      ],
      "text/plain": [
       "<IPython.core.display.Javascript object>"
      ]
     },
     "metadata": {},
     "output_type": "display_data"
    },
    {
     "data": {
      "text/markdown": [
       "<span style=\"color:#33cc33\">Correct</span>"
      ],
      "text/plain": [
       "Correct"
      ]
     },
     "metadata": {},
     "output_type": "display_data"
    }
   ],
   "source": [
    "median_points = reviews.points.median()\n",
    "\n",
    "# Check your answer\n",
    "q1.check()"
   ]
  },
  {
   "cell_type": "code",
   "execution_count": 3,
   "id": "3cfbf292",
   "metadata": {
    "execution": {
     "iopub.execute_input": "2023-06-29T13:41:38.788077Z",
     "iopub.status.busy": "2023-06-29T13:41:38.786833Z",
     "iopub.status.idle": "2023-06-29T13:41:38.792421Z",
     "shell.execute_reply": "2023-06-29T13:41:38.791225Z"
    },
    "papermill": {
     "duration": 0.016354,
     "end_time": "2023-06-29T13:41:38.794720",
     "exception": false,
     "start_time": "2023-06-29T13:41:38.778366",
     "status": "completed"
    },
    "tags": []
   },
   "outputs": [],
   "source": [
    "#q1.hint()\n",
    "#q1.solution()"
   ]
  },
  {
   "cell_type": "markdown",
   "id": "38f6db0e",
   "metadata": {
    "papermill": {
     "duration": 0.006972,
     "end_time": "2023-06-29T13:41:38.809658",
     "exception": false,
     "start_time": "2023-06-29T13:41:38.802686",
     "status": "completed"
    },
    "tags": []
   },
   "source": [
    "## 2. \n",
    "What countries are represented in the dataset? (Your answer should not include any duplicates.)"
   ]
  },
  {
   "cell_type": "code",
   "execution_count": 4,
   "id": "ca30366f",
   "metadata": {
    "execution": {
     "iopub.execute_input": "2023-06-29T13:41:38.826194Z",
     "iopub.status.busy": "2023-06-29T13:41:38.825763Z",
     "iopub.status.idle": "2023-06-29T13:41:38.840263Z",
     "shell.execute_reply": "2023-06-29T13:41:38.839429Z"
    },
    "papermill": {
     "duration": 0.026003,
     "end_time": "2023-06-29T13:41:38.842700",
     "exception": false,
     "start_time": "2023-06-29T13:41:38.816697",
     "status": "completed"
    },
    "tags": []
   },
   "outputs": [
    {
     "data": {
      "application/javascript": [
       "parent.postMessage({\"jupyterEvent\": \"custom.exercise_interaction\", \"data\": {\"outcomeType\": 1, \"valueTowardsCompletion\": 0.14285714285714285, \"interactionType\": 1, \"questionType\": 2, \"questionId\": \"2_UniqueCountries\", \"learnToolsVersion\": \"0.3.4\", \"failureMessage\": \"\", \"exceptionClass\": \"\", \"trace\": \"\"}}, \"*\")"
      ],
      "text/plain": [
       "<IPython.core.display.Javascript object>"
      ]
     },
     "metadata": {},
     "output_type": "display_data"
    },
    {
     "data": {
      "text/markdown": [
       "<span style=\"color:#33cc33\">Correct</span>"
      ],
      "text/plain": [
       "Correct"
      ]
     },
     "metadata": {},
     "output_type": "display_data"
    }
   ],
   "source": [
    "countries = reviews.country.unique()\n",
    "\n",
    "# Check your answer\n",
    "q2.check()"
   ]
  },
  {
   "cell_type": "code",
   "execution_count": 5,
   "id": "8f6774b1",
   "metadata": {
    "execution": {
     "iopub.execute_input": "2023-06-29T13:41:38.859667Z",
     "iopub.status.busy": "2023-06-29T13:41:38.859247Z",
     "iopub.status.idle": "2023-06-29T13:41:38.864519Z",
     "shell.execute_reply": "2023-06-29T13:41:38.862652Z"
    },
    "papermill": {
     "duration": 0.017262,
     "end_time": "2023-06-29T13:41:38.867605",
     "exception": false,
     "start_time": "2023-06-29T13:41:38.850343",
     "status": "completed"
    },
    "tags": []
   },
   "outputs": [],
   "source": [
    "#q2.hint()\n",
    "#q2.solution()"
   ]
  },
  {
   "cell_type": "markdown",
   "id": "e5087e97",
   "metadata": {
    "papermill": {
     "duration": 0.006381,
     "end_time": "2023-06-29T13:41:38.880978",
     "exception": false,
     "start_time": "2023-06-29T13:41:38.874597",
     "status": "completed"
    },
    "tags": []
   },
   "source": [
    "## 3.\n",
    "How often does each country appear in the dataset? Create a Series `reviews_per_country` mapping countries to the count of reviews of wines from that country."
   ]
  },
  {
   "cell_type": "code",
   "execution_count": 6,
   "id": "445431b2",
   "metadata": {
    "execution": {
     "iopub.execute_input": "2023-06-29T13:41:38.898913Z",
     "iopub.status.busy": "2023-06-29T13:41:38.898502Z",
     "iopub.status.idle": "2023-06-29T13:41:38.917789Z",
     "shell.execute_reply": "2023-06-29T13:41:38.916848Z"
    },
    "papermill": {
     "duration": 0.032147,
     "end_time": "2023-06-29T13:41:38.920101",
     "exception": false,
     "start_time": "2023-06-29T13:41:38.887954",
     "status": "completed"
    },
    "tags": []
   },
   "outputs": [
    {
     "data": {
      "application/javascript": [
       "parent.postMessage({\"jupyterEvent\": \"custom.exercise_interaction\", \"data\": {\"outcomeType\": 1, \"valueTowardsCompletion\": 0.14285714285714285, \"interactionType\": 1, \"questionType\": 1, \"questionId\": \"3_ReviewsPerCountry\", \"learnToolsVersion\": \"0.3.4\", \"failureMessage\": \"\", \"exceptionClass\": \"\", \"trace\": \"\"}}, \"*\")"
      ],
      "text/plain": [
       "<IPython.core.display.Javascript object>"
      ]
     },
     "metadata": {},
     "output_type": "display_data"
    },
    {
     "data": {
      "text/markdown": [
       "<span style=\"color:#33cc33\">Correct</span>"
      ],
      "text/plain": [
       "Correct"
      ]
     },
     "metadata": {},
     "output_type": "display_data"
    }
   ],
   "source": [
    "reviews_per_country = reviews.country.value_counts()\n",
    "\n",
    "# Check your answer\n",
    "q3.check()"
   ]
  },
  {
   "cell_type": "code",
   "execution_count": 7,
   "id": "3d612b27",
   "metadata": {
    "execution": {
     "iopub.execute_input": "2023-06-29T13:41:38.935821Z",
     "iopub.status.busy": "2023-06-29T13:41:38.935458Z",
     "iopub.status.idle": "2023-06-29T13:41:38.939770Z",
     "shell.execute_reply": "2023-06-29T13:41:38.938648Z"
    },
    "papermill": {
     "duration": 0.014852,
     "end_time": "2023-06-29T13:41:38.942080",
     "exception": false,
     "start_time": "2023-06-29T13:41:38.927228",
     "status": "completed"
    },
    "tags": []
   },
   "outputs": [],
   "source": [
    "#q3.hint()\n",
    "#q3.solution()"
   ]
  },
  {
   "cell_type": "markdown",
   "id": "9ce895b8",
   "metadata": {
    "papermill": {
     "duration": 0.007415,
     "end_time": "2023-06-29T13:41:38.956469",
     "exception": false,
     "start_time": "2023-06-29T13:41:38.949054",
     "status": "completed"
    },
    "tags": []
   },
   "source": [
    "## 4.\n",
    "Create variable `centered_price` containing a version of the `price` column with the mean price subtracted.\n",
    "\n",
    "(Note: this 'centering' transformation is a common preprocessing step before applying various machine learning algorithms.) "
   ]
  },
  {
   "cell_type": "code",
   "execution_count": 8,
   "id": "921fa3ff",
   "metadata": {
    "execution": {
     "iopub.execute_input": "2023-06-29T13:41:38.972996Z",
     "iopub.status.busy": "2023-06-29T13:41:38.972634Z",
     "iopub.status.idle": "2023-06-29T13:41:38.982206Z",
     "shell.execute_reply": "2023-06-29T13:41:38.981448Z"
    },
    "papermill": {
     "duration": 0.020648,
     "end_time": "2023-06-29T13:41:38.984252",
     "exception": false,
     "start_time": "2023-06-29T13:41:38.963604",
     "status": "completed"
    },
    "tags": []
   },
   "outputs": [
    {
     "data": {
      "application/javascript": [
       "parent.postMessage({\"jupyterEvent\": \"custom.exercise_interaction\", \"data\": {\"outcomeType\": 1, \"valueTowardsCompletion\": 0.14285714285714285, \"interactionType\": 1, \"questionType\": 1, \"questionId\": \"4_CenteredPrice\", \"learnToolsVersion\": \"0.3.4\", \"failureMessage\": \"\", \"exceptionClass\": \"\", \"trace\": \"\"}}, \"*\")"
      ],
      "text/plain": [
       "<IPython.core.display.Javascript object>"
      ]
     },
     "metadata": {},
     "output_type": "display_data"
    },
    {
     "data": {
      "text/markdown": [
       "<span style=\"color:#33cc33\">Correct</span>"
      ],
      "text/plain": [
       "Correct"
      ]
     },
     "metadata": {},
     "output_type": "display_data"
    }
   ],
   "source": [
    "centered_price = reviews.price - reviews.price.mean()\n",
    "\n",
    "# Check your answer\n",
    "q4.check()"
   ]
  },
  {
   "cell_type": "code",
   "execution_count": 9,
   "id": "66115413",
   "metadata": {
    "execution": {
     "iopub.execute_input": "2023-06-29T13:41:39.001072Z",
     "iopub.status.busy": "2023-06-29T13:41:39.000712Z",
     "iopub.status.idle": "2023-06-29T13:41:39.004416Z",
     "shell.execute_reply": "2023-06-29T13:41:39.003479Z"
    },
    "papermill": {
     "duration": 0.016036,
     "end_time": "2023-06-29T13:41:39.007484",
     "exception": false,
     "start_time": "2023-06-29T13:41:38.991448",
     "status": "completed"
    },
    "tags": []
   },
   "outputs": [],
   "source": [
    "#q4.hint()\n",
    "#q4.solution()"
   ]
  },
  {
   "cell_type": "markdown",
   "id": "b69f978c",
   "metadata": {
    "papermill": {
     "duration": 0.006943,
     "end_time": "2023-06-29T13:41:39.022480",
     "exception": false,
     "start_time": "2023-06-29T13:41:39.015537",
     "status": "completed"
    },
    "tags": []
   },
   "source": [
    "## 5.\n",
    "I'm an economical wine buyer. Which wine is the \"best bargain\"? Create a variable `bargain_wine` with the title of the wine with the highest points-to-price ratio in the dataset."
   ]
  },
  {
   "cell_type": "code",
   "execution_count": 10,
   "id": "6d8724a6",
   "metadata": {
    "execution": {
     "iopub.execute_input": "2023-06-29T13:41:39.038648Z",
     "iopub.status.busy": "2023-06-29T13:41:39.037984Z",
     "iopub.status.idle": "2023-06-29T13:41:39.052301Z",
     "shell.execute_reply": "2023-06-29T13:41:39.051006Z"
    },
    "papermill": {
     "duration": 0.025513,
     "end_time": "2023-06-29T13:41:39.055098",
     "exception": false,
     "start_time": "2023-06-29T13:41:39.029585",
     "status": "completed"
    },
    "tags": []
   },
   "outputs": [
    {
     "data": {
      "application/javascript": [
       "parent.postMessage({\"jupyterEvent\": \"custom.exercise_interaction\", \"data\": {\"outcomeType\": 1, \"valueTowardsCompletion\": 0.14285714285714285, \"interactionType\": 1, \"questionType\": 2, \"questionId\": \"5_BargainWine\", \"learnToolsVersion\": \"0.3.4\", \"failureMessage\": \"\", \"exceptionClass\": \"\", \"trace\": \"\"}}, \"*\")"
      ],
      "text/plain": [
       "<IPython.core.display.Javascript object>"
      ]
     },
     "metadata": {},
     "output_type": "display_data"
    },
    {
     "data": {
      "text/markdown": [
       "<span style=\"color:#33cc33\">Correct</span>"
      ],
      "text/plain": [
       "Correct"
      ]
     },
     "metadata": {},
     "output_type": "display_data"
    }
   ],
   "source": [
    "bargain_idx = (reviews.points / reviews.price).idxmax()\n",
    "    \n",
    "bargain_wine = reviews.loc[bargain_idx, 'title']\n",
    "\n",
    "# Check your answer\n",
    "q5.check()"
   ]
  },
  {
   "cell_type": "code",
   "execution_count": 11,
   "id": "ed36cf46",
   "metadata": {
    "execution": {
     "iopub.execute_input": "2023-06-29T13:41:39.072830Z",
     "iopub.status.busy": "2023-06-29T13:41:39.072079Z",
     "iopub.status.idle": "2023-06-29T13:41:39.077512Z",
     "shell.execute_reply": "2023-06-29T13:41:39.075846Z"
    },
    "papermill": {
     "duration": 0.01732,
     "end_time": "2023-06-29T13:41:39.080640",
     "exception": false,
     "start_time": "2023-06-29T13:41:39.063320",
     "status": "completed"
    },
    "tags": []
   },
   "outputs": [],
   "source": [
    "#q5.hint()\n",
    "#q5.solution()"
   ]
  },
  {
   "cell_type": "markdown",
   "id": "bf067986",
   "metadata": {
    "papermill": {
     "duration": 0.008532,
     "end_time": "2023-06-29T13:41:39.098664",
     "exception": false,
     "start_time": "2023-06-29T13:41:39.090132",
     "status": "completed"
    },
    "tags": []
   },
   "source": [
    "## 6.\n",
    "There are only so many words you can use when describing a bottle of wine. Is a wine more likely to be \"tropical\" or \"fruity\"? Create a Series `descriptor_counts` counting how many times each of these two words appears in the `description` column in the dataset. (For simplicity, let's ignore the capitalized versions of these words.)"
   ]
  },
  {
   "cell_type": "code",
   "execution_count": 12,
   "id": "df96b448",
   "metadata": {
    "execution": {
     "iopub.execute_input": "2023-06-29T13:41:39.116534Z",
     "iopub.status.busy": "2023-06-29T13:41:39.116058Z",
     "iopub.status.idle": "2023-06-29T13:41:39.256988Z",
     "shell.execute_reply": "2023-06-29T13:41:39.255726Z"
    },
    "papermill": {
     "duration": 0.153876,
     "end_time": "2023-06-29T13:41:39.260570",
     "exception": false,
     "start_time": "2023-06-29T13:41:39.106694",
     "status": "completed"
    },
    "tags": []
   },
   "outputs": [
    {
     "data": {
      "application/javascript": [
       "parent.postMessage({\"jupyterEvent\": \"custom.exercise_interaction\", \"data\": {\"outcomeType\": 1, \"valueTowardsCompletion\": 0.14285714285714285, \"interactionType\": 1, \"questionType\": 1, \"questionId\": \"6_DescriptorCounts\", \"learnToolsVersion\": \"0.3.4\", \"failureMessage\": \"\", \"exceptionClass\": \"\", \"trace\": \"\"}}, \"*\")"
      ],
      "text/plain": [
       "<IPython.core.display.Javascript object>"
      ]
     },
     "metadata": {},
     "output_type": "display_data"
    },
    {
     "data": {
      "text/markdown": [
       "<span style=\"color:#33cc33\">Correct</span>"
      ],
      "text/plain": [
       "Correct"
      ]
     },
     "metadata": {},
     "output_type": "display_data"
    }
   ],
   "source": [
    "n_trop = reviews.description.map(lambda desc: \"tropical\" in desc).sum()\n",
    "n_fruity = reviews.description.map(lambda desc: \"fruity\" in desc).sum()\n",
    "descriptor_counts = pd.Series([n_trop, n_fruity], index=['tropical', 'fruity'])\n",
    "\n",
    "# Check your answer\n",
    "q6.check()"
   ]
  },
  {
   "cell_type": "code",
   "execution_count": 13,
   "id": "0e97febb",
   "metadata": {
    "execution": {
     "iopub.execute_input": "2023-06-29T13:41:39.278119Z",
     "iopub.status.busy": "2023-06-29T13:41:39.277747Z",
     "iopub.status.idle": "2023-06-29T13:41:39.282431Z",
     "shell.execute_reply": "2023-06-29T13:41:39.281259Z"
    },
    "papermill": {
     "duration": 0.016387,
     "end_time": "2023-06-29T13:41:39.284770",
     "exception": false,
     "start_time": "2023-06-29T13:41:39.268383",
     "status": "completed"
    },
    "tags": []
   },
   "outputs": [],
   "source": [
    "#q6.hint()\n",
    "#q6.solution()"
   ]
  },
  {
   "cell_type": "markdown",
   "id": "5bc3aa91",
   "metadata": {
    "papermill": {
     "duration": 0.007686,
     "end_time": "2023-06-29T13:41:39.300236",
     "exception": false,
     "start_time": "2023-06-29T13:41:39.292550",
     "status": "completed"
    },
    "tags": []
   },
   "source": [
    "## 7.\n",
    "We'd like to host these wine reviews on our website, but a rating system ranging from 80 to 100 points is too hard to understand - we'd like to translate them into simple star ratings. A score of 95 or higher counts as 3 stars, a score of at least 85 but less than 95 is 2 stars. Any other score is 1 star.\n",
    "\n",
    "Also, the Canadian Vintners Association bought a lot of ads on the site, so any wines from Canada should automatically get 3 stars, regardless of points.\n",
    "\n",
    "Create a series `star_ratings` with the number of stars corresponding to each review in the dataset."
   ]
  },
  {
   "cell_type": "code",
   "execution_count": 14,
   "id": "ecf9bac5",
   "metadata": {
    "execution": {
     "iopub.execute_input": "2023-06-29T13:41:39.317864Z",
     "iopub.status.busy": "2023-06-29T13:41:39.317413Z",
     "iopub.status.idle": "2023-06-29T13:41:42.764241Z",
     "shell.execute_reply": "2023-06-29T13:41:42.763250Z"
    },
    "papermill": {
     "duration": 3.458571,
     "end_time": "2023-06-29T13:41:42.766856",
     "exception": false,
     "start_time": "2023-06-29T13:41:39.308285",
     "status": "completed"
    },
    "tags": []
   },
   "outputs": [
    {
     "data": {
      "application/javascript": [
       "parent.postMessage({\"jupyterEvent\": \"custom.exercise_interaction\", \"data\": {\"outcomeType\": 1, \"valueTowardsCompletion\": 0.14285714285714285, \"interactionType\": 1, \"questionType\": 1, \"questionId\": \"7_StarRatings\", \"learnToolsVersion\": \"0.3.4\", \"failureMessage\": \"\", \"exceptionClass\": \"\", \"trace\": \"\"}}, \"*\")"
      ],
      "text/plain": [
       "<IPython.core.display.Javascript object>"
      ]
     },
     "metadata": {},
     "output_type": "display_data"
    },
    {
     "data": {
      "text/markdown": [
       "<span style=\"color:#33cc33\">Correct</span>"
      ],
      "text/plain": [
       "Correct"
      ]
     },
     "metadata": {},
     "output_type": "display_data"
    }
   ],
   "source": [
    "def stars(row):\n",
    "    if row.country == 'Canada':\n",
    "        return 3\n",
    "    elif row.points >= 95:\n",
    "        return 3\n",
    "    elif row.points >= 85:\n",
    "        return 2\n",
    "    else:\n",
    "        return 1\n",
    "\n",
    "star_ratings = reviews.apply(stars, axis='columns')\n",
    "\n",
    "# Check your answer\n",
    "q7.check()"
   ]
  },
  {
   "cell_type": "code",
   "execution_count": 15,
   "id": "d4832691",
   "metadata": {
    "execution": {
     "iopub.execute_input": "2023-06-29T13:41:42.784898Z",
     "iopub.status.busy": "2023-06-29T13:41:42.784001Z",
     "iopub.status.idle": "2023-06-29T13:41:42.789553Z",
     "shell.execute_reply": "2023-06-29T13:41:42.788246Z"
    },
    "papermill": {
     "duration": 0.01702,
     "end_time": "2023-06-29T13:41:42.791797",
     "exception": false,
     "start_time": "2023-06-29T13:41:42.774777",
     "status": "completed"
    },
    "tags": []
   },
   "outputs": [],
   "source": [
    "#q7.hint()\n",
    "#q7.solution()"
   ]
  },
  {
   "cell_type": "markdown",
   "id": "596b2b20",
   "metadata": {
    "papermill": {
     "duration": 0.007521,
     "end_time": "2023-06-29T13:41:42.807122",
     "exception": false,
     "start_time": "2023-06-29T13:41:42.799601",
     "status": "completed"
    },
    "tags": []
   },
   "source": [
    "# Keep going\n",
    "Continue to **[grouping and sorting](https://www.kaggle.com/residentmario/grouping-and-sorting)**."
   ]
  },
  {
   "cell_type": "markdown",
   "id": "9e30cbc0",
   "metadata": {
    "papermill": {
     "duration": 0.007835,
     "end_time": "2023-06-29T13:41:42.822835",
     "exception": false,
     "start_time": "2023-06-29T13:41:42.815000",
     "status": "completed"
    },
    "tags": []
   },
   "source": [
    "---\n",
    "\n",
    "\n",
    "\n",
    "\n",
    "*Have questions or comments? Visit the [course discussion forum](https://www.kaggle.com/learn/pandas/discussion) to chat with other learners.*"
   ]
  }
 ],
 "metadata": {
  "kernelspec": {
   "display_name": "Python 3",
   "language": "python",
   "name": "python3"
  },
  "language_info": {
   "codemirror_mode": {
    "name": "ipython",
    "version": 3
   },
   "file_extension": ".py",
   "mimetype": "text/x-python",
   "name": "python",
   "nbconvert_exporter": "python",
   "pygments_lexer": "ipython3",
   "version": "3.10.10"
  },
  "papermill": {
   "default_parameters": {},
   "duration": 22.819831,
   "end_time": "2023-06-29T13:41:43.755012",
   "environment_variables": {},
   "exception": null,
   "input_path": "__notebook__.ipynb",
   "output_path": "__notebook__.ipynb",
   "parameters": {},
   "start_time": "2023-06-29T13:41:20.935181",
   "version": "2.4.0"
  }
 },
 "nbformat": 4,
 "nbformat_minor": 5
}
