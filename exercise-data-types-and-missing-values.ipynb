{
 "cells": [
  {
   "cell_type": "markdown",
   "id": "e67bc90b",
   "metadata": {
    "papermill": {
     "duration": 0.00542,
     "end_time": "2023-06-29T13:43:37.374467",
     "exception": false,
     "start_time": "2023-06-29T13:43:37.369047",
     "status": "completed"
    },
    "tags": []
   },
   "source": [
    "**This notebook is an exercise in the [Pandas](https://www.kaggle.com/learn/pandas) course.  You can reference the tutorial at [this link](https://www.kaggle.com/residentmario/data-types-and-missing-values).**\n",
    "\n",
    "---\n"
   ]
  },
  {
   "cell_type": "markdown",
   "id": "04740406",
   "metadata": {
    "papermill": {
     "duration": 0.004518,
     "end_time": "2023-06-29T13:43:37.383966",
     "exception": false,
     "start_time": "2023-06-29T13:43:37.379448",
     "status": "completed"
    },
    "tags": []
   },
   "source": [
    "# Introduction\n",
    "\n",
    "Run the following cell to load your data and some utility functions."
   ]
  },
  {
   "cell_type": "code",
   "execution_count": 1,
   "id": "a0ff4bbd",
   "metadata": {
    "execution": {
     "iopub.execute_input": "2023-06-29T13:43:37.396198Z",
     "iopub.status.busy": "2023-06-29T13:43:37.395393Z",
     "iopub.status.idle": "2023-06-29T13:43:40.220189Z",
     "shell.execute_reply": "2023-06-29T13:43:40.218984Z"
    },
    "papermill": {
     "duration": 2.833978,
     "end_time": "2023-06-29T13:43:40.222762",
     "exception": false,
     "start_time": "2023-06-29T13:43:37.388784",
     "status": "completed"
    },
    "tags": []
   },
   "outputs": [
    {
     "name": "stdout",
     "output_type": "stream",
     "text": [
      "Setup complete.\n"
     ]
    }
   ],
   "source": [
    "import pandas as pd\n",
    "\n",
    "reviews = pd.read_csv(\"../input/wine-reviews/winemag-data-130k-v2.csv\", index_col=0)\n",
    "\n",
    "from learntools.core import binder; binder.bind(globals())\n",
    "from learntools.pandas.data_types_and_missing_data import *\n",
    "print(\"Setup complete.\")"
   ]
  },
  {
   "cell_type": "markdown",
   "id": "43ff4477",
   "metadata": {
    "papermill": {
     "duration": 0.004877,
     "end_time": "2023-06-29T13:43:40.232808",
     "exception": false,
     "start_time": "2023-06-29T13:43:40.227931",
     "status": "completed"
    },
    "tags": []
   },
   "source": [
    "# Exercises"
   ]
  },
  {
   "cell_type": "markdown",
   "id": "e5b97170",
   "metadata": {
    "papermill": {
     "duration": 0.004847,
     "end_time": "2023-06-29T13:43:40.242804",
     "exception": false,
     "start_time": "2023-06-29T13:43:40.237957",
     "status": "completed"
    },
    "tags": []
   },
   "source": [
    "## 1. \n",
    "What is the data type of the `points` column in the dataset?"
   ]
  },
  {
   "cell_type": "code",
   "execution_count": 2,
   "id": "f293abd3",
   "metadata": {
    "execution": {
     "iopub.execute_input": "2023-06-29T13:43:40.253927Z",
     "iopub.status.busy": "2023-06-29T13:43:40.253618Z",
     "iopub.status.idle": "2023-06-29T13:43:40.262056Z",
     "shell.execute_reply": "2023-06-29T13:43:40.261416Z"
    },
    "papermill": {
     "duration": 0.015893,
     "end_time": "2023-06-29T13:43:40.263615",
     "exception": false,
     "start_time": "2023-06-29T13:43:40.247722",
     "status": "completed"
    },
    "tags": []
   },
   "outputs": [
    {
     "data": {
      "application/javascript": [
       "parent.postMessage({\"jupyterEvent\": \"custom.exercise_interaction\", \"data\": {\"outcomeType\": 1, \"valueTowardsCompletion\": 0.25, \"interactionType\": 1, \"questionType\": 1, \"questionId\": \"1_PointsDtype\", \"learnToolsVersion\": \"0.3.4\", \"failureMessage\": \"\", \"exceptionClass\": \"\", \"trace\": \"\"}}, \"*\")"
      ],
      "text/plain": [
       "<IPython.core.display.Javascript object>"
      ]
     },
     "metadata": {},
     "output_type": "display_data"
    },
    {
     "data": {
      "text/markdown": [
       "<span style=\"color:#33cc33\">Correct</span>"
      ],
      "text/plain": [
       "Correct"
      ]
     },
     "metadata": {},
     "output_type": "display_data"
    }
   ],
   "source": [
    "# Your code here\n",
    "dtype = reviews.points.dtype\n",
    "\n",
    "# Check your answer\n",
    "q1.check()"
   ]
  },
  {
   "cell_type": "code",
   "execution_count": 3,
   "id": "889829da",
   "metadata": {
    "execution": {
     "iopub.execute_input": "2023-06-29T13:43:40.276552Z",
     "iopub.status.busy": "2023-06-29T13:43:40.276094Z",
     "iopub.status.idle": "2023-06-29T13:43:40.279481Z",
     "shell.execute_reply": "2023-06-29T13:43:40.278623Z"
    },
    "papermill": {
     "duration": 0.011439,
     "end_time": "2023-06-29T13:43:40.281465",
     "exception": false,
     "start_time": "2023-06-29T13:43:40.270026",
     "status": "completed"
    },
    "tags": []
   },
   "outputs": [],
   "source": [
    "#q1.hint()\n",
    "#q1.solution()"
   ]
  },
  {
   "cell_type": "markdown",
   "id": "6021956b",
   "metadata": {
    "papermill": {
     "duration": 0.004898,
     "end_time": "2023-06-29T13:43:40.291573",
     "exception": false,
     "start_time": "2023-06-29T13:43:40.286675",
     "status": "completed"
    },
    "tags": []
   },
   "source": [
    "## 2. \n",
    "Create a Series from entries in the `points` column, but convert the entries to strings. Hint: strings are `str` in native Python."
   ]
  },
  {
   "cell_type": "code",
   "execution_count": 4,
   "id": "a6b6cf1b",
   "metadata": {
    "execution": {
     "iopub.execute_input": "2023-06-29T13:43:40.303663Z",
     "iopub.status.busy": "2023-06-29T13:43:40.303168Z",
     "iopub.status.idle": "2023-06-29T13:43:40.391599Z",
     "shell.execute_reply": "2023-06-29T13:43:40.390925Z"
    },
    "papermill": {
     "duration": 0.096514,
     "end_time": "2023-06-29T13:43:40.393377",
     "exception": false,
     "start_time": "2023-06-29T13:43:40.296863",
     "status": "completed"
    },
    "tags": []
   },
   "outputs": [
    {
     "data": {
      "application/javascript": [
       "parent.postMessage({\"jupyterEvent\": \"custom.exercise_interaction\", \"data\": {\"outcomeType\": 1, \"valueTowardsCompletion\": 0.25, \"interactionType\": 1, \"questionType\": 1, \"questionId\": \"2_StrPoints\", \"learnToolsVersion\": \"0.3.4\", \"failureMessage\": \"\", \"exceptionClass\": \"\", \"trace\": \"\"}}, \"*\")"
      ],
      "text/plain": [
       "<IPython.core.display.Javascript object>"
      ]
     },
     "metadata": {},
     "output_type": "display_data"
    },
    {
     "data": {
      "text/markdown": [
       "<span style=\"color:#33cc33\">Correct</span>"
      ],
      "text/plain": [
       "Correct"
      ]
     },
     "metadata": {},
     "output_type": "display_data"
    }
   ],
   "source": [
    "point_strings = reviews.points.astype(str)\n",
    "\n",
    "# Check your answer\n",
    "q2.check()"
   ]
  },
  {
   "cell_type": "code",
   "execution_count": 5,
   "id": "244ffdac",
   "metadata": {
    "execution": {
     "iopub.execute_input": "2023-06-29T13:43:40.405916Z",
     "iopub.status.busy": "2023-06-29T13:43:40.405433Z",
     "iopub.status.idle": "2023-06-29T13:43:40.408427Z",
     "shell.execute_reply": "2023-06-29T13:43:40.407833Z"
    },
    "papermill": {
     "duration": 0.011271,
     "end_time": "2023-06-29T13:43:40.410169",
     "exception": false,
     "start_time": "2023-06-29T13:43:40.398898",
     "status": "completed"
    },
    "tags": []
   },
   "outputs": [],
   "source": [
    "#q2.hint()\n",
    "#q2.solution()"
   ]
  },
  {
   "cell_type": "markdown",
   "id": "767c539d",
   "metadata": {
    "papermill": {
     "duration": 0.005294,
     "end_time": "2023-06-29T13:43:40.420854",
     "exception": false,
     "start_time": "2023-06-29T13:43:40.415560",
     "status": "completed"
    },
    "tags": []
   },
   "source": [
    "## 3.\n",
    "Sometimes the price column is null. How many reviews in the dataset are missing a price?"
   ]
  },
  {
   "cell_type": "code",
   "execution_count": 6,
   "id": "7f2a4e41",
   "metadata": {
    "execution": {
     "iopub.execute_input": "2023-06-29T13:43:40.432606Z",
     "iopub.status.busy": "2023-06-29T13:43:40.432157Z",
     "iopub.status.idle": "2023-06-29T13:43:40.447159Z",
     "shell.execute_reply": "2023-06-29T13:43:40.446326Z"
    },
    "papermill": {
     "duration": 0.023056,
     "end_time": "2023-06-29T13:43:40.449292",
     "exception": false,
     "start_time": "2023-06-29T13:43:40.426236",
     "status": "completed"
    },
    "tags": []
   },
   "outputs": [
    {
     "data": {
      "application/javascript": [
       "parent.postMessage({\"jupyterEvent\": \"custom.exercise_interaction\", \"data\": {\"outcomeType\": 1, \"valueTowardsCompletion\": 0.25, \"interactionType\": 1, \"questionType\": 1, \"questionId\": \"3_CountMissingPrices\", \"learnToolsVersion\": \"0.3.4\", \"failureMessage\": \"\", \"exceptionClass\": \"\", \"trace\": \"\"}}, \"*\")"
      ],
      "text/plain": [
       "<IPython.core.display.Javascript object>"
      ]
     },
     "metadata": {},
     "output_type": "display_data"
    },
    {
     "data": {
      "text/markdown": [
       "<span style=\"color:#33cc33\">Correct</span>"
      ],
      "text/plain": [
       "Correct"
      ]
     },
     "metadata": {},
     "output_type": "display_data"
    }
   ],
   "source": [
    "missing_price_reviews = reviews[reviews.price.isnull()]\n",
    "n_missing_prices = len(missing_price_reviews)\n",
    "# Cute alternative solution: if we sum a boolean series, True is treated as 1 and False as 0\n",
    "n_missing_prices = reviews.price.isnull().sum()\n",
    "# or equivalently:\n",
    "n_missing_prices = pd.isnull(reviews.price).sum()\n",
    "\n",
    "# Check your answer\n",
    "q3.check()"
   ]
  },
  {
   "cell_type": "code",
   "execution_count": 7,
   "id": "a0567c68",
   "metadata": {
    "execution": {
     "iopub.execute_input": "2023-06-29T13:43:40.462409Z",
     "iopub.status.busy": "2023-06-29T13:43:40.461820Z",
     "iopub.status.idle": "2023-06-29T13:43:40.465428Z",
     "shell.execute_reply": "2023-06-29T13:43:40.464514Z"
    },
    "papermill": {
     "duration": 0.012142,
     "end_time": "2023-06-29T13:43:40.467093",
     "exception": false,
     "start_time": "2023-06-29T13:43:40.454951",
     "status": "completed"
    },
    "tags": []
   },
   "outputs": [],
   "source": [
    "#q3.hint()\n",
    "#q3.solution()"
   ]
  },
  {
   "cell_type": "markdown",
   "id": "29ff219e",
   "metadata": {
    "papermill": {
     "duration": 0.005302,
     "end_time": "2023-06-29T13:43:40.477821",
     "exception": false,
     "start_time": "2023-06-29T13:43:40.472519",
     "status": "completed"
    },
    "tags": []
   },
   "source": [
    "## 4.\n",
    "What are the most common wine-producing regions? Create a Series counting the number of times each value occurs in the `region_1` field. This field is often missing data, so replace missing values with `Unknown`. Sort in descending order.  Your output should look something like this:\n",
    "\n",
    "```\n",
    "Unknown                    21247\n",
    "Napa Valley                 4480\n",
    "                           ...  \n",
    "Bardolino Superiore            1\n",
    "Primitivo del Tarantino        1\n",
    "Name: region_1, Length: 1230, dtype: int64\n",
    "```"
   ]
  },
  {
   "cell_type": "code",
   "execution_count": 8,
   "id": "e7c8e11b",
   "metadata": {
    "execution": {
     "iopub.execute_input": "2023-06-29T13:43:40.490438Z",
     "iopub.status.busy": "2023-06-29T13:43:40.489921Z",
     "iopub.status.idle": "2023-06-29T13:43:40.561029Z",
     "shell.execute_reply": "2023-06-29T13:43:40.560051Z"
    },
    "papermill": {
     "duration": 0.080063,
     "end_time": "2023-06-29T13:43:40.563370",
     "exception": false,
     "start_time": "2023-06-29T13:43:40.483307",
     "status": "completed"
    },
    "tags": []
   },
   "outputs": [
    {
     "data": {
      "application/javascript": [
       "parent.postMessage({\"jupyterEvent\": \"custom.exercise_interaction\", \"data\": {\"outcomeType\": 1, \"valueTowardsCompletion\": 0.25, \"interactionType\": 1, \"questionType\": 2, \"questionId\": \"4_ReviewsPerRegion\", \"learnToolsVersion\": \"0.3.4\", \"failureMessage\": \"\", \"exceptionClass\": \"\", \"trace\": \"\"}}, \"*\")"
      ],
      "text/plain": [
       "<IPython.core.display.Javascript object>"
      ]
     },
     "metadata": {},
     "output_type": "display_data"
    },
    {
     "data": {
      "text/markdown": [
       "<span style=\"color:#33cc33\">Correct</span>"
      ],
      "text/plain": [
       "Correct"
      ]
     },
     "metadata": {},
     "output_type": "display_data"
    }
   ],
   "source": [
    "reviews_per_region = reviews.region_1.fillna('Unknown').value_counts().sort_values(ascending=False)\n",
    "\n",
    "# Check your answer\n",
    "q4.check()"
   ]
  },
  {
   "cell_type": "code",
   "execution_count": 9,
   "id": "67f01ded",
   "metadata": {
    "execution": {
     "iopub.execute_input": "2023-06-29T13:43:40.577942Z",
     "iopub.status.busy": "2023-06-29T13:43:40.577013Z",
     "iopub.status.idle": "2023-06-29T13:43:40.581474Z",
     "shell.execute_reply": "2023-06-29T13:43:40.580613Z"
    },
    "papermill": {
     "duration": 0.013721,
     "end_time": "2023-06-29T13:43:40.583448",
     "exception": false,
     "start_time": "2023-06-29T13:43:40.569727",
     "status": "completed"
    },
    "tags": []
   },
   "outputs": [],
   "source": [
    "#q4.hint()\n",
    "#q4.solution()"
   ]
  },
  {
   "cell_type": "markdown",
   "id": "75d7649c",
   "metadata": {
    "papermill": {
     "duration": 0.005509,
     "end_time": "2023-06-29T13:43:40.594782",
     "exception": false,
     "start_time": "2023-06-29T13:43:40.589273",
     "status": "completed"
    },
    "tags": []
   },
   "source": [
    "# Keep going\n",
    "\n",
    "Move on to **[renaming and combining](https://www.kaggle.com/residentmario/renaming-and-combining)**."
   ]
  },
  {
   "cell_type": "markdown",
   "id": "16313a1b",
   "metadata": {
    "papermill": {
     "duration": 0.006028,
     "end_time": "2023-06-29T13:43:40.606728",
     "exception": false,
     "start_time": "2023-06-29T13:43:40.600700",
     "status": "completed"
    },
    "tags": []
   },
   "source": [
    "---\n",
    "\n",
    "\n",
    "\n",
    "\n",
    "*Have questions or comments? Visit the [course discussion forum](https://www.kaggle.com/learn/pandas/discussion) to chat with other learners.*"
   ]
  }
 ],
 "metadata": {
  "kernelspec": {
   "display_name": "Python 3",
   "language": "python",
   "name": "python3"
  },
  "language_info": {
   "codemirror_mode": {
    "name": "ipython",
    "version": 3
   },
   "file_extension": ".py",
   "mimetype": "text/x-python",
   "name": "python",
   "nbconvert_exporter": "python",
   "pygments_lexer": "ipython3",
   "version": "3.10.10"
  },
  "papermill": {
   "default_parameters": {},
   "duration": 14.422295,
   "end_time": "2023-06-29T13:43:41.331862",
   "environment_variables": {},
   "exception": null,
   "input_path": "__notebook__.ipynb",
   "output_path": "__notebook__.ipynb",
   "parameters": {},
   "start_time": "2023-06-29T13:43:26.909567",
   "version": "2.4.0"
  }
 },
 "nbformat": 4,
 "nbformat_minor": 5
}
